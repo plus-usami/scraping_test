{
 "cells": [
  {
   "cell_type": "code",
   "execution_count": 1,
   "metadata": {},
   "outputs": [],
   "source": [
    "import requests\n",
    "from bs4 import BeautifulSoup\n",
    "from urllib.parse import urljoin\n",
    "\n",
    "USER = \"JS-TESTER\"\n",
    "PASS = \"ipCU12ySxI\"\n"
   ]
  },
  {
   "cell_type": "code",
   "execution_count": 2,
   "metadata": {},
   "outputs": [],
   "source": [
    "\n",
    "session = requests.session()\n",
    "\n",
    "login_info = {\n",
    "  \"username_mmlbbs6\": USER,\n",
    "  \"password_mmlbbs6\": PASS,\n",
    "  \"back\": \"index.php\",\n",
    "  \"mml_id\": \"0\"\n",
    "}\n"
   ]
  },
  {
   "cell_type": "code",
   "execution_count": 3,
   "metadata": {},
   "outputs": [
    {
     "data": {
      "text/plain": [
       "requests.sessions.Session"
      ]
     },
     "execution_count": 3,
     "metadata": {},
     "output_type": "execute_result"
    }
   ],
   "source": [
    "type(session)"
   ]
  },
  {
   "cell_type": "code",
   "execution_count": 4,
   "metadata": {},
   "outputs": [],
   "source": [
    "url_login = \"https://uta.pw/sakusibbs/users.php?action=login&m=try\"\n",
    "res = session.post(url_login, data=login_info)\n",
    "res.raise_for_status()"
   ]
  },
  {
   "cell_type": "code",
   "execution_count": 5,
   "metadata": {},
   "outputs": [],
   "source": [
    "soup = BeautifulSoup(res.text, \"html.parser\")\n",
    "a = soup.select_one('.islogin a')\n",
    "\n",
    "if a is None:\n",
    "  print(\"マイページが取得できませんでした\")\n",
    "  quit()"
   ]
  },
  {
   "cell_type": "code",
   "execution_count": 6,
   "metadata": {},
   "outputs": [
    {
     "name": "stdout",
     "output_type": "stream",
     "text": [
      "- 今日も明日もJS三昧 by JS-TESTER > post.php?mml_id=161\n",
      "- 眠ってもデバッグ by JS-TESTER > post.php?mml_id=162\n",
      "- プリンとシュークリーム by JS-TESTER > post.php?mml_id=246\n",
      "- 吾輩はテスターである by JS-TESTER > post.php?mml_id=268\n",
      "- 吾輩はテスターである　その２ by JS-TESTER > post.php?mml_id=269\n",
      "- test by JS-TESTER > post.php?mml_id=281\n",
      "- test2 by JS-TESTER > post.php?mml_id=288\n",
      "- 憎しみの果て by JS-TESTER > post.php?mml_id=291\n",
      "- test1 by JS-TESTER > post.php?mml_id=297\n",
      "- 無題 by JS-TESTER > post.php?mml_id=318\n",
      "- 無題 by JS-TESTER > post.php?mml_id=358\n",
      "- 無題 by JS-TESTER > post.php?mml_id=359\n",
      "- 吾輩は爆薬である by JS-TESTER > post.php?mml_id=380\n",
      "- クローリングララバイ by JS-TESTER > post.php?mml_id=402\n",
      "- ネジ by JS-TESTER > post.php?mml_id=408\n",
      "- スクラップブック by JS-TESTER > post.php?mml_id=409\n",
      "- 聞こえない by JS-TESTER > post.php?mml_id=410\n",
      "- httpsにしないといけない by JS-TESTER > post.php?mml_id=411\n",
      "- グーグルクロームのhttps警告対策で、最近https化されたのでしょうか。 by JS-TESTER > post.php?mml_id=415\n",
      "- teset by JS-TESTER > post.php?mml_id=430\n",
      "- テストテストテスト by JS-TESTER > post.php?mml_id=436\n",
      "- test by JS-TESTER > post.php?mml_id=703\n",
      "- 無題 by JS-TESTER > post.php?mml_id=716\n",
      "- へのへのもへじ by JS-TESTER > post.php?mml_id=733\n",
      "- マイページが取得できません！ by JS-TESTER > post.php?mml_id=790\n",
      "- 名前を知らない気ですから by JS-TESTER > post.php?mml_id=791\n",
      "- aaaaaa by JS-TESTER > post.php?mml_id=799\n",
      "- cccccc by JS-TESTER > post.php?mml_id=804\n",
      "- bbbbbbbb by JS-TESTER > post.php?mml_id=805\n",
      "- ポケベルが鳴らなくて by 月城 麻里奈 > post.php?mml_id=796\n",
      "- Aqours音頭で踊ろうよ by 月城 麻里奈 > post.php?mml_id=797\n",
      "- ヨハネの愛の黙示録 by 月城 麻里奈 > post.php?mml_id=811\n",
      "- 空虚＝Angel lover by 月城 麻里奈 > post.php?mml_id=664\n",
      "- 紅い薔薇の誘惑 by 月城 麻里奈 > post.php?mml_id=780\n",
      "- 愛を失う事が怖くて by 月城 麻里奈 > post.php?mml_id=782\n",
      "- 愛なんてない by 月城 麻里奈 > post.php?mml_id=781\n",
      "- 小悪魔ガール by 月城 麻里奈 > post.php?mml_id=784\n",
      "- 笑顔でサヨナラしようよ by 月城 麻里奈 > post.php?mml_id=783\n",
      "- 朱い夏の愛に溺れたい by 月城 麻里奈 > post.php?mml_id=786\n",
      "- 君が天使だから by 月城 麻里奈 > post.php?mml_id=785\n",
      "- LOVEの文字が消えないように by 月城 麻里奈 > post.php?mml_id=787\n",
      "- ゴメンねサヨナラ by 月城 麻里奈 > post.php?mml_id=789\n",
      "- この愛にトドメを刺してよ by 月城 麻里奈 > post.php?mml_id=788\n",
      "- 格好 by Homary > post.php?mml_id=167\n",
      "- メダリオン by Homary > post.php?mml_id=164\n",
      "- Seraphim by Homary > post.php?mml_id=180\n",
      "- 桜花 by Homary > post.php?mml_id=172\n",
      "- 命想い by Homary > post.php?mml_id=184\n",
      "- ぼんやり by Homary > post.php?mml_id=181\n",
      "- つまびく by Homary > post.php?mml_id=209\n"
     ]
    }
   ],
   "source": [
    "url_mypage = urljoin(url_login, a.attrs[\"href\"])\n",
    "#print(\"マイページ=\", url_mypage)\n",
    "\n",
    "res = session.get(url_mypage)\n",
    "res.raise_for_status()\n",
    "\n",
    "soup = BeautifulSoup(res.text, \"html.parser\")\n",
    "links = soup.select(\"#favlist li > a\")\n",
    "\n",
    "for a in links:\n",
    "  href = a.attrs[\"href\"]\n",
    "  title = a.get_text()\n",
    "  print(\"-\", title, \">\", href)"
   ]
  },
  {
   "cell_type": "code",
   "execution_count": null,
   "metadata": {},
   "outputs": [],
   "source": []
  }
 ],
 "metadata": {
  "kernelspec": {
   "display_name": "Python 3",
   "language": "python",
   "name": "python3"
  },
  "language_info": {
   "codemirror_mode": {
    "name": "ipython",
    "version": 3
   },
   "file_extension": ".py",
   "mimetype": "text/x-python",
   "name": "python",
   "nbconvert_exporter": "python",
   "pygments_lexer": "ipython3",
   "version": "3.7.3"
  }
 },
 "nbformat": 4,
 "nbformat_minor": 4
}
