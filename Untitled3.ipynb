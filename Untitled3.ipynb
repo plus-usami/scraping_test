{
 "cells": [
  {
   "cell_type": "code",
   "execution_count": 1,
   "metadata": {},
   "outputs": [],
   "source": [
    "import requests\n",
    "import json"
   ]
  },
  {
   "cell_type": "code",
   "execution_count": 4,
   "metadata": {},
   "outputs": [],
   "source": [
    "apikey = \"f5c98691b3151756085c0ed97be3a4e9\"\n",
    "\n",
    "cities = [\"Tokyo,JP\", \"London,UK\", \"New York,US\"]\n",
    "api = \"https://api.openweathermap.org/data/2.5/weather?q={city}&APPID=f5c98691b3151756085c0ed97be3a4e9\"\n",
    "\n",
    "k2c = lambda k: k - 273.15\n"
   ]
  },
  {
   "cell_type": "code",
   "execution_count": 8,
   "metadata": {},
   "outputs": [
    {
     "name": "stdout",
     "output_type": "stream",
     "text": [
      "+ 都市= Tokyo\n",
      "| 天気= broken clouds\n",
      "| 最低気温= 21.0\n",
      "| 最高気温= 26.110000000000014\n",
      "| 湿度= 73\n",
      "| 風速度= 5.1\n",
      "+ 都市= London\n",
      "| 天気= clear sky\n",
      "| 最低気温= 5.0\n",
      "| 最高気温= 11.110000000000014\n",
      "| 湿度= 81\n",
      "| 風速度= 0.5\n",
      "+ 都市= New York\n",
      "| 天気= clear sky\n",
      "| 最低気温= 13.330000000000041\n",
      "| 最高気温= 18.0\n",
      "| 湿度= 63\n",
      "| 風速度= 4.6\n"
     ]
    }
   ],
   "source": [
    "for name in cities:\n",
    "    url = api.format(city=name)\n",
    "    r = requests.get(url)\n",
    "    data = json.loads(r.text)\n",
    "    print(\"+ 都市=\", data[\"name\"])\n",
    "    print(\"| 天気=\", data[\"weather\"][0][\"description\"])\n",
    "    print(\"| 最低気温=\", k2c(data[\"main\"][\"temp_min\"]))\n",
    "    print(\"| 最高気温=\", k2c(data[\"main\"][\"temp_max\"]))\n",
    "    print(\"| 湿度=\", data[\"main\"][\"humidity\"])\n",
    "    print(\"| 風速度=\", data[\"wind\"][\"speed\"])\n",
    "    "
   ]
  },
  {
   "cell_type": "code",
   "execution_count": null,
   "metadata": {},
   "outputs": [],
   "source": []
  },
  {
   "cell_type": "code",
   "execution_count": null,
   "metadata": {},
   "outputs": [],
   "source": []
  }
 ],
 "metadata": {
  "kernelspec": {
   "display_name": "Python 3",
   "language": "python",
   "name": "python3"
  },
  "language_info": {
   "codemirror_mode": {
    "name": "ipython",
    "version": 3
   },
   "file_extension": ".py",
   "mimetype": "text/x-python",
   "name": "python",
   "nbconvert_exporter": "python",
   "pygments_lexer": "ipython3",
   "version": "3.7.3"
  }
 },
 "nbformat": 4,
 "nbformat_minor": 4
}
